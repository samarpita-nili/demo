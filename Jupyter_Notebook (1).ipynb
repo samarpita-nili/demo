{
 "cells": [
  {
   "cell_type": "markdown",
   "metadata": {},
   "source": [
    "<center>\n",
    "    <img src=\"https://s3-api.us-geo.objectstorage.softlayer.net/cf-courses-data/CognitiveClass/Logos/organization_logo/organization_logo.png\" width=\"300\" alt=\"cognitiveclass.ai logo\"  />\n",
    "</center>\n"
   ]
  },
  {
   "cell_type": "markdown",
   "metadata": {},
   "source": [
    "#### Add your code below following the instructions given in the course\n"
   ]
  },
  {
   "cell_type": "markdown",
   "metadata": {},
   "source": [
    "# My Jupiter Notebook on IBM Watson Studio"
   ]
  },
  {
   "cell_type": "markdown",
   "metadata": {},
   "source": [
    "**Samarpita Samanta** \n",
    "\n",
    " Assistance System Engineer"
   ]
  },
  {
   "cell_type": "markdown",
   "metadata": {},
   "source": [
    "*I am interested in Data Science because I want to become a Data Scientist, also I do have interest in Maths and Statistics.\n",
    "As I am from Computer background, I have the basic knowledge of coding. So I think it will be a great deal for me.*"
   ]
  },
  {
   "cell_type": "markdown",
   "metadata": {},
   "source": [
    "### The following code will display the result of addition of two numbers"
   ]
  },
  {
   "cell_type": "code",
   "execution_count": 6,
   "metadata": {},
   "outputs": [
    {
     "name": "stdout",
     "output_type": "stream",
     "text": [
      "15\n"
     ]
    }
   ],
   "source": [
    "five = 5\n",
    "ten = 10\n",
    "print (five + ten)"
   ]
  },
  {
   "cell_type": "markdown",
   "metadata": {},
   "source": [
    "| Fruits | Flowers |\n",
    "|--------|---------|\n",
    "| Mango  | Rose    |\n",
    "| Apple  | Lotus   |\n",
    "| Banana | Daisy   |\n",
    "| Orange | Tulip   |\n",
    "\n",
    "### The name of seasons are\n",
    "- Summer\n",
    "- Monsoon\n",
    "- Autumn\n",
    "- Pre-winter\n",
    "- Winter\n",
    "- Spring\n",
    "\n",
    "~~This is a test code~~\n",
    "\n",
    "### My hobbies are\n",
    "\n",
    "1. Watching movies\n",
    "2. Cooking\n",
    "3. Internet Surfing"
   ]
  },
  {
   "cell_type": "code",
   "execution_count": null,
   "metadata": {},
   "outputs": [],
   "source": []
  }
 ],
 "metadata": {
  "kernelspec": {
   "display_name": "Python",
   "language": "python",
   "name": "conda-env-python-py"
  },
  "language_info": {
   "codemirror_mode": {
    "name": "ipython",
    "version": 3
   },
   "file_extension": ".py",
   "mimetype": "text/x-python",
   "name": "python",
   "nbconvert_exporter": "python",
   "pygments_lexer": "ipython3",
   "version": "3.7.12"
  }
 },
 "nbformat": 4,
 "nbformat_minor": 4
}
